{
 "cells": [
  {
   "cell_type": "markdown",
   "metadata": {},
   "source": [
    "# Level 8: working hard?\n",
    "\n",
    "[http://www.pythonchallenge.com/pc/def/integrity.html](http://www.pythonchallenge.com/pc/def/integrity.html)"
   ]
  },
  {
   "cell_type": "markdown",
   "metadata": {},
   "source": [
    "## 線索\n",
    "\n",
    "一張圖中有隻蜜蜂，下方的文字寫著：\n",
    "> Where is the missing link?\n",
    "\n",
    "滑鼠移到蜜蜂上，發現游標變成可點選的狀態，是個連結，點下去後會出現要求使用者名稱及密碼的輸入框\n",
    "\n",
    "看看 html source，最下方有：\n",
    "```html\n",
    "<!--\n",
    "un: 'BZh91AY&SYA\\xaf\\x82\\r\\x00\\x00\\x01\\x01\\x80\\x02\\xc0\\x02\\x00 \\x00!\\x9ah3M\\x07<]\\xc9\\x14\\xe1BA\\x06\\xbe\\x084'\n",
    "pw: 'BZh91AY&SY\\x94$|\\x0e\\x00\\x00\\x00\\x81\\x00\\x03$ \\x00!\\x9ah3M\\x13<]\\xc9\\x14\\xe1BBP\\x91\\xf08'\n",
    "-->\n",
    "```\n",
    "\n",
    "很明顯是 username 及 password，內容是 bz2 格式\n",
    "\n",
    "## 嘗試\n",
    "\n",
    "沒什麼好說的，直接 bz2 解壓縮"
   ]
  },
  {
   "cell_type": "code",
   "execution_count": 1,
   "metadata": {},
   "outputs": [
    {
     "name": "stdout",
     "output_type": "stream",
     "text": [
      "un: huge\n",
      "pw: file\n"
     ]
    }
   ],
   "source": [
    "import bz2\n",
    "\n",
    "un = \"BZh91AY&SYA\\xaf\\x82\\r\\x00\\x00\\x01\\x01\\x80\\x02\\xc0\\x02\\x00 \\x00!\\x9ah3M\\x07<]\\xc9\\x14\\xe1BA\\x06\\xbe\\x084\"\n",
    "pw = \"BZh91AY&SY\\x94$|\\x0e\\x00\\x00\\x00\\x81\\x00\\x03$ \\x00!\\x9ah3M\\x13<]\\xc9\\x14\\xe1BBP\\x91\\xf08\"\n",
    "\n",
    "print(\"un:\", bz2.decompress(bytes(un, \"latin-1\")).decode())\n",
    "print(\"pw:\", bz2.decompress(bytes(pw, \"latin-1\")).decode())\n"
   ]
  },
  {
   "cell_type": "markdown",
   "metadata": {},
   "source": [
    "輸入框中分別填入 huge 及 file，送出搞定\n",
    "\n",
    "下一關的網址就是連結導去的 ```http://www.pythonchallenge.com/pc/return/good.html```"
   ]
  }
 ],
 "metadata": {
  "interpreter": {
   "hash": "88820f70fe797c17a17438db8934ce13a7508165c79431e6be95279a502cc6d6"
  },
  "kernelspec": {
   "display_name": "Python 3.10.2 ('3.10.2-python-challenge')",
   "language": "python",
   "name": "python3"
  },
  "language_info": {
   "codemirror_mode": {
    "name": "ipython",
    "version": 3
   },
   "file_extension": ".py",
   "mimetype": "text/x-python",
   "name": "python",
   "nbconvert_exporter": "python",
   "pygments_lexer": "ipython3",
   "version": "3.10.2"
  },
  "orig_nbformat": 4
 },
 "nbformat": 4,
 "nbformat_minor": 2
}
