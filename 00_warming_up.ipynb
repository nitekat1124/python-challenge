{
 "cells": [
  {
   "cell_type": "markdown",
   "metadata": {},
   "source": [
    "# Level 0: warming up\n",
    "\n",
    "[http://www.pythonchallenge.com/pc/def/0.html](http://www.pythonchallenge.com/pc/def/0.html)"
   ]
  },
  {
   "cell_type": "markdown",
   "metadata": {},
   "source": [
    "## 線索\n",
    "\n",
    "電腦螢幕上貼著一張便利貼，寫著 238，下方有一行字：\n",
    "> Hint: try to change the URL address. \n",
    "\n",
    "## 嘗試\n",
    "\n",
    "目前的網址是 ```http://www.pythonchallenge.com/pc/def/0.html```，將它改成 ```http://www.pythonchallenge.com/pc/def/238.html``` 試試看，轉過去後頁面上寫著：\n",
    "> No... the 38 is a little bit above the 2... \n",
    "\n",
    "38 比 2 高一點，應該是 2 的 38 次方的意思"
   ]
  },
  {
   "cell_type": "code",
   "execution_count": 1,
   "metadata": {},
   "outputs": [
    {
     "name": "stdout",
     "output_type": "stream",
     "text": [
      "274877906944\n"
     ]
    }
   ],
   "source": [
    "print(2**38)"
   ]
  },
  {
   "cell_type": "markdown",
   "metadata": {},
   "source": [
    "試看看將網址改為 ```http://www.pythonchallenge.com/pc/def/274877906944.html```，這次有動靜了！網頁會再自動跳轉到 ```http://www.pythonchallenge.com/pc/def/map.html```，進入了下一個關卡"
   ]
  }
 ],
 "metadata": {
  "interpreter": {
   "hash": "88820f70fe797c17a17438db8934ce13a7508165c79431e6be95279a502cc6d6"
  },
  "kernelspec": {
   "display_name": "Python 3.10.2 ('3.10.2-python-challenge')",
   "language": "python",
   "name": "python3"
  },
  "language_info": {
   "codemirror_mode": {
    "name": "ipython",
    "version": 3
   },
   "file_extension": ".py",
   "mimetype": "text/x-python",
   "name": "python",
   "nbconvert_exporter": "python",
   "pygments_lexer": "ipython3",
   "version": "3.10.2"
  },
  "orig_nbformat": 4
 },
 "nbformat": 4,
 "nbformat_minor": 2
}
