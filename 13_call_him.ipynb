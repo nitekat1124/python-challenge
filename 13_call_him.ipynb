{
 "cells": [
  {
   "cell_type": "markdown",
   "metadata": {},
   "source": [
    "# Level 13, call him\n",
    "\n",
    "[http://www.pythonchallenge.com/pc/return/disproportional.html](http://www.pythonchallenge.com/pc/return/disproportional.html)"
   ]
  },
  {
   "cell_type": "markdown",
   "metadata": {},
   "source": [
    "## 線索\n",
    "\n",
    "一張電話的照片，下方文字寫著：\n",
    "> phone that evil\n",
    "\n",
    "仔細檢查，按鈕 5 可以點，會連到 ```http://www.pythonchallenge.com/pc/phonebook.php```，內容為：\n",
    "```xml\n",
    "<?xml version=\"1.0\"?>\n",
    "<methodResponse>\n",
    "<fault>\n",
    "<value>\n",
    "<struct><member><name>faultCode</name>\n",
    "<value><int>105</int></value>\n",
    "</member>\n",
    "<member>\n",
    "<name>faultString</name>\n",
    "<value><string>XML error 5: empty document</string></value>\n",
    "</member>\n",
    "</struct>\n",
    "</value>\n",
    "</fault>\n",
    "</methodResponse>\n",
    "```\n",
    "\n",
    "## 嘗試\n",
    "\n",
    "嘗試看看用 xmlrpc 來通訊"
   ]
  },
  {
   "cell_type": "code",
   "execution_count": 1,
   "metadata": {},
   "outputs": [
    {
     "name": "stdout",
     "output_type": "stream",
     "text": [
      "['phone', 'system.listMethods', 'system.methodHelp', 'system.methodSignature', 'system.multicall', 'system.getCapabilities']\n"
     ]
    }
   ],
   "source": [
    "import xmlrpc.client\n",
    "\n",
    "x = xmlrpc.client.ServerProxy(\"http://www.pythonchallenge.com/pc/phonebook.php\")\n",
    "print(x.system.listMethods())"
   ]
  },
  {
   "cell_type": "markdown",
   "metadata": {},
   "source": [
    "來看看 phone 這個 method 的一些資訊"
   ]
  },
  {
   "cell_type": "code",
   "execution_count": 2,
   "metadata": {},
   "outputs": [
    {
     "name": "stdout",
     "output_type": "stream",
     "text": [
      "Returns the phone of a person\n"
     ]
    }
   ],
   "source": [
    "print(x.system.methodHelp(\"phone\"))"
   ]
  },
  {
   "cell_type": "code",
   "execution_count": 3,
   "metadata": {},
   "outputs": [
    {
     "name": "stdout",
     "output_type": "stream",
     "text": [
      "[['string', 'string']]\n"
     ]
    }
   ],
   "source": [
    "print(x.system.methodSignature(\"phone\"))"
   ]
  },
  {
   "cell_type": "markdown",
   "metadata": {},
   "source": [
    "感覺應該是傳入一個 string (人名？) 會 return 那個人的電話號碼\n",
    "\n",
    "嘗試一下"
   ]
  },
  {
   "cell_type": "code",
   "execution_count": 4,
   "metadata": {},
   "outputs": [
    {
     "name": "stdout",
     "output_type": "stream",
     "text": [
      "He is not the evil\n"
     ]
    }
   ],
   "source": [
    "print(x.phone(\"him\")) # title say: \"call him\""
   ]
  },
  {
   "cell_type": "code",
   "execution_count": 5,
   "metadata": {},
   "outputs": [
    {
     "name": "stdout",
     "output_type": "stream",
     "text": [
      "He is not the evil\n"
     ]
    }
   ],
   "source": [
    "print(x.phone(\"evil\"))"
   ]
  },
  {
   "cell_type": "code",
   "execution_count": 7,
   "metadata": {},
   "outputs": [
    {
     "name": "stdout",
     "output_type": "stream",
     "text": [
      "He is not the evil\n"
     ]
    }
   ],
   "source": [
    "print(x.phone(\"phone\"))"
   ]
  },
  {
   "cell_type": "markdown",
   "metadata": {},
   "source": [
    "好像都不對\n",
    "\n",
    "呃，突然想到\n",
    "\n",
    "Level 12 的 evil4.jpg，回傳值寫著 ```Bert is evil```\n",
    "\n",
    "難道..."
   ]
  },
  {
   "cell_type": "code",
   "execution_count": 8,
   "metadata": {},
   "outputs": [
    {
     "name": "stdout",
     "output_type": "stream",
     "text": [
      "555-ITALY\n"
     ]
    }
   ],
   "source": [
    "print(x.phone(\"Bert\"))"
   ]
  },
  {
   "cell_type": "markdown",
   "metadata": {},
   "source": [
    "...... 很好\n",
    "\n",
    "那麼就來試試看以下幾個 url：\n",
    "\n",
    "- ```http://www.pythonchallenge.com/pc/return/555-italy.html```\n",
    "- ```http://www.pythonchallenge.com/pc/return/555_italy.html```\n",
    "- ```http://www.pythonchallenge.com/pc/return/555.html```\n",
    "- ```http://www.pythonchallenge.com/pc/return/italy.html```\n",
    "\n",
    "前面三個 url 都是 404，最後一個可以連到下一個關卡，所以下一關的網址就是 ```http://www.pythonchallenge.com/pc/return/italy.html```"
   ]
  }
 ],
 "metadata": {
  "interpreter": {
   "hash": "88820f70fe797c17a17438db8934ce13a7508165c79431e6be95279a502cc6d6"
  },
  "kernelspec": {
   "display_name": "Python 3.10.2 ('3.10.2-python-challenge')",
   "language": "python",
   "name": "python3"
  },
  "language_info": {
   "codemirror_mode": {
    "name": "ipython",
    "version": 3
   },
   "file_extension": ".py",
   "mimetype": "text/x-python",
   "name": "python",
   "nbconvert_exporter": "python",
   "pygments_lexer": "ipython3",
   "version": "3.10.2"
  },
  "orig_nbformat": 4
 },
 "nbformat": 4,
 "nbformat_minor": 2
}
