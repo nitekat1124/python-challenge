{
 "cells": [
  {
   "cell_type": "markdown",
   "metadata": {},
   "source": [
    "# Level 10: what are you looking at?\n",
    "\n",
    "[http://www.pythonchallenge.com/pc/return/bull.html](http://www.pythonchallenge.com/pc/return/bull.html)"
   ]
  },
  {
   "cell_type": "markdown",
   "metadata": {},
   "source": [
    "## 線索\n",
    "\n",
    "圖片中有牛，下方寫著：\n",
    "> len(a[30]) = ?\n",
    "\n",
    "仔細檢查後發現牛可以點擊，連結到 ```http://www.pythonchallenge.com/pc/return/sequence.txt```，內容為\n",
    "```python\n",
    "a = [1, 11, 21, 1211, 111221, \n",
    "```\n",
    "\n",
    "觀察了一下，嗯，這是個 look-and-say 數列\n",
    "\n",
    "## 嘗試\n",
    "\n",
    "既然知道它是什麼了，那麼就直接算到 a[30] 吧"
   ]
  },
  {
   "cell_type": "code",
   "execution_count": 1,
   "metadata": {},
   "outputs": [
    {
     "name": "stdout",
     "output_type": "stream",
     "text": [
      "5808\n"
     ]
    }
   ],
   "source": [
    "from itertools import groupby\n",
    "\n",
    "a = [\"1\"]\n",
    "\n",
    "while len(a) < 31:\n",
    "    g = groupby(a[-1])\n",
    "    n = ''.join([str(len(list(v))) + k for k, v in g])\n",
    "    a += [n]\n",
    "\n",
    "# print(a)\n",
    "print(len(a[30]))"
   ]
  },
  {
   "cell_type": "markdown",
   "metadata": {},
   "source": [
    "那麼下一關的網址就是 ```http://www.pythonchallenge.com/pc/return/5808.html```"
   ]
  }
 ],
 "metadata": {
  "interpreter": {
   "hash": "88820f70fe797c17a17438db8934ce13a7508165c79431e6be95279a502cc6d6"
  },
  "kernelspec": {
   "display_name": "Python 3.10.2 ('3.10.2-python-challenge')",
   "language": "python",
   "name": "python3"
  },
  "language_info": {
   "codemirror_mode": {
    "name": "ipython",
    "version": 3
   },
   "file_extension": ".py",
   "mimetype": "text/x-python",
   "name": "python",
   "nbconvert_exporter": "python",
   "pygments_lexer": "ipython3",
   "version": "3.10.2"
  },
  "orig_nbformat": 4
 },
 "nbformat": 4,
 "nbformat_minor": 2
}
