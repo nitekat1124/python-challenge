{
 "cells": [
  {
   "cell_type": "markdown",
   "metadata": {},
   "source": [
    "# Level 7: smarty\n",
    "\n",
    "[http://www.pythonchallenge.com/pc/def/oxygen.html](http://www.pythonchallenge.com/pc/def/oxygen.html)"
   ]
  },
  {
   "cell_type": "markdown",
   "metadata": {},
   "source": [
    "## 線索\n",
    "\n",
    "除了一張圖以外，其他什麼都沒有\n",
    "\n",
    "圖的最中間排看起來像馬賽克，或許可以來看一下是否有什麼資訊在其中？\n",
    "\n",
    "## 嘗試\n",
    "\n",
    "讀取最中間排的色彩資訊看看"
   ]
  },
  {
   "cell_type": "code",
   "execution_count": 4,
   "metadata": {},
   "outputs": [
    {
     "name": "stdout",
     "output_type": "stream",
     "text": [
      "smart guy, you made it. the next level is [105, 110, 116, 101, 103, 114, 105, 116, 121]"
     ]
    }
   ],
   "source": [
    "from PIL import Image\n",
    "from urllib.request import urlopen\n",
    "\n",
    "url = \"http://www.pythonchallenge.com/pc/def/oxygen.png\"\n",
    "data = urlopen(url)\n",
    "# print(data)\n",
    "\n",
    "im = Image.open(data)\n",
    "\n",
    "pixels = list(im.getdata())\n",
    "# print(len(pixels))\n",
    "\n",
    "width, height = im.size\n",
    "\n",
    "for i in range(width // 7 - 2):\n",
    "    # print(pixels[width * (height // 2) + i * 7])\n",
    "    print(chr(pixels[width * (height // 2) + i * 7][0]), end=\"\")"
   ]
  },
  {
   "cell_type": "markdown",
   "metadata": {},
   "source": [
    "得到 ```[105, 110, 116, 101, 103, 114, 105, 116, 121]``` 這組數值，一樣試著轉成 ascii 看看"
   ]
  },
  {
   "cell_type": "code",
   "execution_count": 5,
   "metadata": {},
   "outputs": [
    {
     "name": "stdout",
     "output_type": "stream",
     "text": [
      "integrity\n"
     ]
    }
   ],
   "source": [
    "print(*[chr(c) for c in [105, 110, 116, 101, 103, 114, 105, 116, 121]], sep=\"\")"
   ]
  },
  {
   "cell_type": "markdown",
   "metadata": {},
   "source": [
    "因此下一關的網址就是 ```http://www.pythonchallenge.com/pc/def/integrity.html```"
   ]
  }
 ],
 "metadata": {
  "interpreter": {
   "hash": "88820f70fe797c17a17438db8934ce13a7508165c79431e6be95279a502cc6d6"
  },
  "kernelspec": {
   "display_name": "Python 3.10.2 ('3.10.2-python-challenge')",
   "language": "python",
   "name": "python3"
  },
  "language_info": {
   "codemirror_mode": {
    "name": "ipython",
    "version": 3
   },
   "file_extension": ".py",
   "mimetype": "text/x-python",
   "name": "python",
   "nbconvert_exporter": "python",
   "pygments_lexer": "ipython3",
   "version": "3.10.2"
  },
  "orig_nbformat": 4
 },
 "nbformat": 4,
 "nbformat_minor": 2
}
