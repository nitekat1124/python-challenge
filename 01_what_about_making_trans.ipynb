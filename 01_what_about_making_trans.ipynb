{
 "cells": [
  {
   "cell_type": "markdown",
   "metadata": {},
   "source": [
    "# Level 1: What about making trans?\n",
    "\n",
    "[http://www.pythonchallenge.com/pc/def/map.html](http://www.pythonchallenge.com/pc/def/map.html)"
   ]
  },
  {
   "cell_type": "markdown",
   "metadata": {},
   "source": [
    "## 線索\n",
    "\n",
    "圖片中的筆記本上寫著：\n",
    "> K -> M \\\n",
    "> O -> Q \\\n",
    "> E -> G\n",
    "\n",
    "下方還有兩行字，第一行寫著：\n",
    "> everybody thinks twice before solving this.\n",
    "\n",
    "第二行：\n",
    "> g fmnc wms bgblr rpylqjyrc gr zw fylb. rfyrq ufyr amknsrcpq ypc dmp. bmgle gr gl zw fylb gq glcddgagclr ylb rfyr'q ufw rfgq rcvr gq qm jmle. sqgle qrpgle.kyicrpylq() gq pcamkkclbcb. lmu ynnjw ml rfc spj.\n",
    "\n",
    "像是一堆亂碼，或者像是被某種規則轉換過的密文"
   ]
  },
  {
   "cell_type": "markdown",
   "metadata": {},
   "source": [
    "## 嘗試\n",
    "\n",
    "透過圖片上的線索，按照英文字母順序的話，K 往後兩個字母就會到 M，O 往後兩個字母會到 Q，E 往後兩個字母得到 G，應該就是在提示我們要使用凱撒密碼\n",
    "\n",
    "```\n",
    "before: A B C D E F G H I J K L M N O P Q R S T U V W X Y Z\n",
    "after : C D E F G H I J K L M N O P Q R S T U V W X Y Z A B\n",
    "```"
   ]
  },
  {
   "cell_type": "code",
   "execution_count": 1,
   "metadata": {},
   "outputs": [
    {
     "name": "stdout",
     "output_type": "stream",
     "text": [
      "i hope you didnt translate it by hand. thats what computers are for. doing it in by hand is inefficient and that's why this text is so long. using string.maketrans() is recommended. now apply on the url.\n"
     ]
    }
   ],
   "source": [
    "import string\n",
    "\n",
    "text = \"g fmnc wms bgblr rpylqjyrc gr zw fylb. rfyrq ufyr amknsrcpq ypc dmp. bmgle gr gl zw fylb gq glcddgagclr ylb rfyr'q ufw rfgq rcvr gq qm jmle. sqgle qrpgle.kyicrpylq() gq pcamkkclbcb. lmu ynnjw ml rfc spj.\"\n",
    "chars = string.ascii_lowercase * 2\n",
    "decipher = [chars[chars.index(c) + 2] if c.isalpha() else c for c in text]\n",
    "print(*decipher, sep=\"\")"
   ]
  },
  {
   "cell_type": "markdown",
   "metadata": {},
   "source": [
    "轉譯後得到以下文句：\n",
    "\n",
    "> i hope you didnt translate it by hand. thats what computers are for. doing it in by hand is inefficient and that's why this text is so long. using string.maketrans() is recommended. now apply on the url.\n",
    "\n",
    "雖然已經解出來了，不過我們來試一下它建議使用的 ```string.maketrans()``` 好了"
   ]
  },
  {
   "cell_type": "code",
   "execution_count": 2,
   "metadata": {},
   "outputs": [
    {
     "ename": "AttributeError",
     "evalue": "module 'string' has no attribute 'maketrans'",
     "output_type": "error",
     "traceback": [
      "\u001b[0;31m---------------------------------------------------------------------------\u001b[0m",
      "\u001b[0;31mAttributeError\u001b[0m                            Traceback (most recent call last)",
      "\u001b[1;32m/Users/nitekat/Workspace/python-challenge/01_what_about_making_trans.ipynb Cell 6'\u001b[0m in \u001b[0;36m<cell line: 3>\u001b[0;34m()\u001b[0m\n\u001b[1;32m      <a href='vscode-notebook-cell:/Users/nitekat/Workspace/python-challenge/01_what_about_making_trans.ipynb#ch0000008?line=0'>1</a>\u001b[0m before \u001b[39m=\u001b[39m string\u001b[39m.\u001b[39mascii_lowercase\n\u001b[1;32m      <a href='vscode-notebook-cell:/Users/nitekat/Workspace/python-challenge/01_what_about_making_trans.ipynb#ch0000008?line=1'>2</a>\u001b[0m after \u001b[39m=\u001b[39m before[\u001b[39m2\u001b[39m:] \u001b[39m+\u001b[39m before[:\u001b[39m2\u001b[39m]\n\u001b[0;32m----> <a href='vscode-notebook-cell:/Users/nitekat/Workspace/python-challenge/01_what_about_making_trans.ipynb#ch0000008?line=2'>3</a>\u001b[0m transtab \u001b[39m=\u001b[39m string\u001b[39m.\u001b[39;49mmaketrans(before, after)\n\u001b[1;32m      <a href='vscode-notebook-cell:/Users/nitekat/Workspace/python-challenge/01_what_about_making_trans.ipynb#ch0000008?line=4'>5</a>\u001b[0m decipher2 \u001b[39m=\u001b[39m text\u001b[39m.\u001b[39mtranslate(transtab)\n\u001b[1;32m      <a href='vscode-notebook-cell:/Users/nitekat/Workspace/python-challenge/01_what_about_making_trans.ipynb#ch0000008?line=5'>6</a>\u001b[0m \u001b[39mprint\u001b[39m(decipher2)\n",
      "\u001b[0;31mAttributeError\u001b[0m: module 'string' has no attribute 'maketrans'"
     ]
    }
   ],
   "source": [
    "before = string.ascii_lowercase\n",
    "after = before[2:] + before[:2]\n",
    "transtab = string.maketrans(before, after)\n",
    "\n",
    "decipher2 = text.translate(transtab)\n",
    "print(decipher2)"
   ]
  },
  {
   "cell_type": "markdown",
   "metadata": {},
   "source": [
    "嘿... ```string``` 已經沒有 ```maketrans()``` 了，要改一下："
   ]
  },
  {
   "cell_type": "code",
   "execution_count": 3,
   "metadata": {},
   "outputs": [
    {
     "name": "stdout",
     "output_type": "stream",
     "text": [
      "i hope you didnt translate it by hand. thats what computers are for. doing it in by hand is inefficient and that's why this text is so long. using string.maketrans() is recommended. now apply on the url.\n"
     ]
    }
   ],
   "source": [
    "before = string.ascii_lowercase\n",
    "after = before[2:] + before[:2]\n",
    "transtab = str.maketrans(before, after)\n",
    "\n",
    "decipher2 = text.translate(transtab)\n",
    "print(decipher2)"
   ]
  },
  {
   "cell_type": "markdown",
   "metadata": {},
   "source": [
    "OK，現在將凱撒密碼法用在 url 上："
   ]
  },
  {
   "cell_type": "code",
   "execution_count": 4,
   "metadata": {},
   "outputs": [
    {
     "name": "stdout",
     "output_type": "stream",
     "text": [
      "ocr\n"
     ]
    }
   ],
   "source": [
    "print(\"map\".translate(transtab))"
   ]
  },
  {
   "cell_type": "markdown",
   "metadata": {},
   "source": [
    "得到下一關的網址為 ```http://www.pythonchallenge.com/pc/def/ocr.html```"
   ]
  }
 ],
 "metadata": {
  "interpreter": {
   "hash": "88820f70fe797c17a17438db8934ce13a7508165c79431e6be95279a502cc6d6"
  },
  "kernelspec": {
   "display_name": "Python 3.10.2 ('3.10.2-python-challenge')",
   "language": "python",
   "name": "python3"
  },
  "language_info": {
   "codemirror_mode": {
    "name": "ipython",
    "version": 3
   },
   "file_extension": ".py",
   "mimetype": "text/x-python",
   "name": "python",
   "nbconvert_exporter": "python",
   "pygments_lexer": "ipython3",
   "version": "3.10.2"
  },
  "orig_nbformat": 4
 },
 "nbformat": 4,
 "nbformat_minor": 2
}
