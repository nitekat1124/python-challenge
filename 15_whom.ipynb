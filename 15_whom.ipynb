{
 "cells": [
  {
   "cell_type": "markdown",
   "metadata": {},
   "source": [
    "# Level 15: whom?\n",
    "\n",
    "[http://www.pythonchallenge.com/pc/return/uzi.html](http://www.pythonchallenge.com/pc/return/uzi.html)"
   ]
  },
  {
   "cell_type": "markdown",
   "metadata": {},
   "source": [
    "## 線索\n",
    "\n",
    "一張一月份月曆的照片，年份的部分被破壞了，看不出來是 1X6 年還是 1XX6 年，1/26 的部分被圈了起來\n",
    "\n",
    "這一年的 1/26 是星期一，右下角有前後各一個月份的縮圖，看得出來二月份有 29 天，這年是閏年\n",
    "\n",
    "看看 html source，有兩句註解，應該是提示\n",
    "\n",
    "> he ain't the youngest, he is the second\n",
    "\n",
    "> todo: buy flowers for tomorrow\n",
    "\n",
    "感覺應該跟圈起來的日期有關\n",
    "\n",
    "## 嘗試\n",
    "\n",
    "先找出所有 1X6 跟 1XX6 的年份，過濾出該年是閏年並且 1/26 是星期一的年份"
   ]
  },
  {
   "cell_type": "code",
   "execution_count": 1,
   "metadata": {},
   "outputs": [
    {
     "name": "stdout",
     "output_type": "stream",
     "text": [
      "[116, 136, 156, 176, 196, 1016, 1036, 1056, 1076, 1096, 1116, 1136, 1156, 1176, 1196, 1216, 1236, 1256, 1276, 1296, 1316, 1336, 1356, 1376, 1396, 1416, 1436, 1456, 1476, 1496, 1516, 1536, 1556, 1576, 1596, 1616, 1636, 1656, 1676, 1696, 1716, 1736, 1756, 1776, 1796, 1816, 1836, 1856, 1876, 1896, 1916, 1936, 1956, 1976, 1996]\n"
     ]
    }
   ],
   "source": [
    "from calendar import isleap, weekday\n",
    "\n",
    "years = [i for i in range(106, 197) if i % 10 == 6] + [i for i in range(1006, 1997) if i % 10 == 6]\n",
    "\n",
    "leap_years = [y for y in years if isleap(y)]\n",
    "print(leap_years)"
   ]
  },
  {
   "cell_type": "code",
   "execution_count": 2,
   "metadata": {},
   "outputs": [
    {
     "name": "stdout",
     "output_type": "stream",
     "text": [
      "[156, 1176, 1356, 1576, 1756, 1976]\n"
     ]
    }
   ],
   "source": [
    "# weekday() return 0~6 as Mon~Sun\n",
    "matched_years = [y for y in leap_years if weekday(y, 1, 26) == 0]\n",
    "print(matched_years)"
   ]
  },
  {
   "cell_type": "markdown",
   "metadata": {},
   "source": [
    "由第一句的註解提示，應該是要找第二年輕的年份？那麼應該就是 1756 年\n",
    "\n",
    "第二句的 todo 說要為明天買花，那個應該是指 1/26 的待辦事項\n",
    "\n",
    "[所以我們來 google 看看 1756/1/27 有什麼相關的訊息](https://www.google.com/search?q=1756/1/27)\n",
    "\n",
    "噢，看起來應該是跟莫札特有關 (Wolfgang Amadeus Mozart)\n",
    "\n",
    "試試看 ```http://www.pythonchallenge.com/pc/return/mozart.html``` 就順利進入下一關囉"
   ]
  }
 ],
 "metadata": {
  "interpreter": {
   "hash": "88820f70fe797c17a17438db8934ce13a7508165c79431e6be95279a502cc6d6"
  },
  "kernelspec": {
   "display_name": "Python 3.10.2 ('3.10.2-python-challenge')",
   "language": "python",
   "name": "python3"
  },
  "language_info": {
   "codemirror_mode": {
    "name": "ipython",
    "version": 3
   },
   "file_extension": ".py",
   "mimetype": "text/x-python",
   "name": "python",
   "nbconvert_exporter": "python",
   "pygments_lexer": "ipython3",
   "version": "3.10.2"
  },
  "orig_nbformat": 4
 },
 "nbformat": 4,
 "nbformat_minor": 2
}
